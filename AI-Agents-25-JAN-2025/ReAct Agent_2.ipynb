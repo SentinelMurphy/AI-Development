{
 "cells": [
  {
   "cell_type": "markdown",
   "id": "513a7730-051e-4c20-8f1b-2f7ffa5afb51",
   "metadata": {},
   "source": [
    "### Simple ReAct Agent from Scrach"
   ]
  },
  {
   "cell_type": "code",
   "execution_count": null,
   "id": "be4debca-953e-4637-b668-f238515800bf",
   "metadata": {},
   "outputs": [],
   "source": [
    "%pip install -U langgraph"
   ]
  },
  {
   "cell_type": "code",
   "execution_count": 70,
   "id": "72bd809c-5fd6-4c6a-93f5-49d5cf095e01",
   "metadata": {},
   "outputs": [
    {
     "data": {
      "text/plain": [
       "False"
      ]
     },
     "execution_count": 70,
     "metadata": {},
     "output_type": "execute_result"
    }
   ],
   "source": [
    "import datetime\n",
    "import warnings\n",
    "warnings.filterwarnings('ignore')\n",
    "\n",
    "from dotenv import load_dotenv\n",
    "from langchain_openai import ChatOpenAI\n",
    "from langchain_core.output_parsers import StrOutputParser\n",
    "from langgraph.prebuilt import create_react_agent\n",
    "from langchain_core.tools import tool\n",
    "\n",
    "# from langchain.globals import set_debug\n",
    "# set_debug(True)\n",
    "\n",
    "load_dotenv()"
   ]
  },
  {
   "cell_type": "code",
   "execution_count": 71,
   "id": "5391f050-1ddf-408b-a0a5-dba0ad29c71c",
   "metadata": {},
   "outputs": [],
   "source": [
    "OLLAMA_BASE_URL = \"http://localhost:11434/v1\"\n",
    "OLLAMA_API_KEY = \"ollama\""
   ]
  },
  {
   "cell_type": "code",
   "execution_count": 72,
   "id": "91750ba9-7f48-4177-8031-5ea5c426ec42",
   "metadata": {},
   "outputs": [],
   "source": [
    "model = ChatOpenAI(\n",
    "    model=\"llama3.2\",\n",
    "    temperature=0.8,\n",
    "    max_tokens=None,\n",
    "    timeout=None,\n",
    "    max_retries=5,\n",
    "    api_key=OLLAMA_API_KEY,\n",
    "    base_url=OLLAMA_BASE_URL\n",
    ")"
   ]
  },
  {
   "cell_type": "code",
   "execution_count": 73,
   "id": "3da0c119-9e8a-4a52-abb9-444e88e152c5",
   "metadata": {},
   "outputs": [],
   "source": [
    "query = \"What is the current date and time?\""
   ]
  },
  {
   "cell_type": "code",
   "execution_count": 74,
   "id": "c68ef26a-b505-42e7-9294-a3e3d0bc77c5",
   "metadata": {},
   "outputs": [],
   "source": [
    "prompt = '''Answer the following questions as best you can. You have access to the following tools:\n",
    "\n",
    "{tools}\n",
    "\n",
    "Use the following format:\n",
    "\n",
    "Question: the input question you must answer\n",
    "Thought: you should always think about what to do\n",
    "Action: the action to take, should be one of [{tool_names}]\n",
    "Action Input: the input to the action\n",
    "Observation: the result of the action\n",
    "... (this Thought/Action/Action Input/Observation can repeat N times)\n",
    "Thought: I now know the final answer\n",
    "Final Answer: the final answer to the original input question\n",
    "\n",
    "Begin!\n",
    "\n",
    "Question: {input}\n",
    "Thought:{agent_scratchpad}'''\n"
   ]
  },
  {
   "cell_type": "code",
   "execution_count": 75,
   "id": "06d6b2ce-f967-4b45-9c0d-8eb4cb25af3a",
   "metadata": {},
   "outputs": [],
   "source": [
    "@tool\n",
    "def check_system_time(format:str = \"%Y-%m-%d %H:%M:%S\"):\n",
    "    \"\"\"Returns the current date and time in the specified format\"\"\"\n",
    "    current_time = datetime.datetime.now()\n",
    "    print(current_time)\n",
    "    formatted_time = current_time.strftime(format)\n",
    "    print(formatted_time)\n",
    "    return formatted_time"
   ]
  },
  {
   "cell_type": "code",
   "execution_count": 76,
   "id": "a71c9d6c-0007-41c2-aaf2-bf6699cbf28e",
   "metadata": {},
   "outputs": [],
   "source": [
    "tools = [check_system_time]"
   ]
  },
  {
   "cell_type": "code",
   "execution_count": 77,
   "id": "57a3497a-ce8b-44dd-93fc-653dd9918da8",
   "metadata": {},
   "outputs": [],
   "source": [
    "langgraph_agent_executor = create_react_agent(model, tools, state_modifier=prompt)"
   ]
  },
  {
   "cell_type": "code",
   "execution_count": 78,
   "id": "74890db5-ea27-46ff-bf59-a9b8cf84cc27",
   "metadata": {},
   "outputs": [
    {
     "name": "stdout",
     "output_type": "stream",
     "text": [
      "2025-01-21 13:11:24.015000\n",
      "2025-01-21 13:11:24\n",
      "2025-01-21 13:11:24.016146\n",
      "2025-01-21 13:11:24\n",
      "2025-01-21 13:11:24.016561\n",
      "2025-01-21 13:11:24\n"
     ]
    }
   ],
   "source": [
    "result = langgraph_agent_executor.invoke(input={\"messages\": [(\"human\", query)]})"
   ]
  },
  {
   "cell_type": "code",
   "execution_count": 79,
   "id": "5330d058-1b56-433f-9494-204b590c5a5a",
   "metadata": {},
   "outputs": [
    {
     "name": "stdout",
     "output_type": "stream",
     "text": [
      "Thought: I now know the final answer\n",
      "Final Answer: The current date and time is 2025-01-21 13:11:24.\n"
     ]
    }
   ],
   "source": [
    "print(result[\"messages\"][-1].content)"
   ]
  },
  {
   "cell_type": "code",
   "execution_count": null,
   "id": "50fb6e42-1703-44e5-9d97-b9fd62b81d60",
   "metadata": {},
   "outputs": [],
   "source": []
  }
 ],
 "metadata": {
  "kernelspec": {
   "display_name": "Python 3 (ipykernel)",
   "language": "python",
   "name": "python3"
  },
  "language_info": {
   "codemirror_mode": {
    "name": "ipython",
    "version": 3
   },
   "file_extension": ".py",
   "mimetype": "text/x-python",
   "name": "python",
   "nbconvert_exporter": "python",
   "pygments_lexer": "ipython3",
   "version": "3.11.11"
  }
 },
 "nbformat": 4,
 "nbformat_minor": 5
}
