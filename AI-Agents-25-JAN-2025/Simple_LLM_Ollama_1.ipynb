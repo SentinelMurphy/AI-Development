{
 "cells": [
  {
   "cell_type": "markdown",
   "id": "c509564d-39e0-46ef-98de-831869aec54e",
   "metadata": {},
   "source": [
    "### Simple Ollama llm chat from Scrach"
   ]
  },
  {
   "cell_type": "code",
   "execution_count": 1,
   "id": "72bd809c-5fd6-4c6a-93f5-49d5cf095e01",
   "metadata": {},
   "outputs": [],
   "source": [
    "from dotenv import load_dotenv\n",
    "\n",
    "from langchain_openai import ChatOpenAI\n",
    "from langchain_core.output_parsers import StrOutputParser\n",
    "from langchain_core.prompts import PromptTemplate\n",
    "# from langchain import hub\n",
    "load_dotenv()\n",
    "\n",
    "# from langchain.globals import set_debug\n",
    "# set_debug(True)\n",
    "\n",
    "import warnings\n",
    "warnings.filterwarnings('ignore')"
   ]
  },
  {
   "cell_type": "code",
   "execution_count": 2,
   "id": "5391f050-1ddf-408b-a0a5-dba0ad29c71c",
   "metadata": {},
   "outputs": [],
   "source": [
    "OLLAMA_BASE_URL = \"http://localhost:11434/v1\"\n",
    "OLLAMA_API_KEY = \"ollama\""
   ]
  },
  {
   "cell_type": "code",
   "execution_count": 3,
   "id": "91750ba9-7f48-4177-8031-5ea5c426ec42",
   "metadata": {},
   "outputs": [],
   "source": [
    "model = ChatOpenAI(\n",
    "    model=\"llama3.2\",\n",
    "    temperature=0.8,\n",
    "    max_tokens=None,\n",
    "    timeout=None,\n",
    "    max_retries=2,\n",
    "    api_key=OLLAMA_API_KEY,\n",
    "    base_url=OLLAMA_BASE_URL\n",
    ")"
   ]
  },
  {
   "cell_type": "code",
   "execution_count": 4,
   "id": "1ef7453f-ac00-4693-9728-98a24c71cbcb",
   "metadata": {},
   "outputs": [],
   "source": [
    "query = \"Taylor Swift\""
   ]
  },
  {
   "cell_type": "code",
   "execution_count": 5,
   "id": "c68ef26a-b505-42e7-9294-a3e3d0bc77c5",
   "metadata": {},
   "outputs": [],
   "source": [
    "# prompt_template = hub.pull(\"hwchase17/react\")\n",
    "prompt = PromptTemplate.from_template(\"who is {input}?\")"
   ]
  },
  {
   "cell_type": "code",
   "execution_count": 6,
   "id": "57a3497a-ce8b-44dd-93fc-653dd9918da8",
   "metadata": {},
   "outputs": [],
   "source": [
    "output_parser = StrOutputParser()"
   ]
  },
  {
   "cell_type": "code",
   "execution_count": 7,
   "id": "da145b8e-c996-47a9-b451-c553e782d607",
   "metadata": {},
   "outputs": [],
   "source": [
    "chain = prompt | model | output_parser"
   ]
  },
  {
   "cell_type": "code",
   "execution_count": 8,
   "id": "dfc1ef94-f2f1-4734-8f12-c39164bf3936",
   "metadata": {},
   "outputs": [],
   "source": [
    "result = chain.invoke({\"input\": query})"
   ]
  },
  {
   "cell_type": "code",
   "execution_count": null,
   "id": "2f644453-3dd7-4281-a804-3ddbe60c7906",
   "metadata": {},
   "outputs": [],
   "source": [
    "print(result)"
   ]
  }
 ],
 "metadata": {
  "kernelspec": {
   "display_name": "Python 3 (ipykernel)",
   "language": "python",
   "name": "python3"
  },
  "language_info": {
   "codemirror_mode": {
    "name": "ipython",
    "version": 3
   },
   "file_extension": ".py",
   "mimetype": "text/x-python",
   "name": "python",
   "nbconvert_exporter": "python",
   "pygments_lexer": "ipython3",
   "version": "3.11.11"
  }
 },
 "nbformat": 4,
 "nbformat_minor": 5
}
